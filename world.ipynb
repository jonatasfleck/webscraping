{
 "cells": [
  {
   "cell_type": "code",
   "execution_count": null,
   "id": "304fddc5",
   "metadata": {},
   "outputs": [],
   "source": [
    "import pandas as pd"
   ]
  },
  {
   "cell_type": "code",
   "execution_count": null,
   "id": "7d3ed307",
   "metadata": {},
   "outputs": [],
   "source": []
  }
 ],
 "metadata": {
  "kernelspec": {
   "display_name": "virtual",
   "language": "python",
   "name": "virtual"
  }
 },
 "nbformat": 4,
 "nbformat_minor": 5
}
